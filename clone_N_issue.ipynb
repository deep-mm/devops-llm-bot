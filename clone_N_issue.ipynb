{
 "cells": [
  {
   "cell_type": "code",
   "execution_count": 1,
   "metadata": {},
   "outputs": [
    {
     "name": "stdout",
     "output_type": "stream",
     "text": [
      "Requirement already satisfied: pip in /usr/local/python/3.10.8/lib/python3.10/site-packages (23.3.1)\n",
      "Note: you may need to restart the kernel to use updated packages.\n",
      "Requirement already satisfied: requests in /home/codespace/.local/lib/python3.10/site-packages (2.31.0)\n",
      "Requirement already satisfied: pandas in /home/codespace/.local/lib/python3.10/site-packages (2.1.1)\n",
      "Requirement already satisfied: charset-normalizer<4,>=2 in /home/codespace/.local/lib/python3.10/site-packages (from requests) (3.3.0)\n",
      "Requirement already satisfied: idna<4,>=2.5 in /home/codespace/.local/lib/python3.10/site-packages (from requests) (3.4)\n",
      "Requirement already satisfied: urllib3<3,>=1.21.1 in /home/codespace/.local/lib/python3.10/site-packages (from requests) (2.0.6)\n",
      "Requirement already satisfied: certifi>=2017.4.17 in /home/codespace/.local/lib/python3.10/site-packages (from requests) (2023.7.22)\n",
      "Requirement already satisfied: numpy>=1.22.4 in /home/codespace/.local/lib/python3.10/site-packages (from pandas) (1.26.1)\n",
      "Requirement already satisfied: python-dateutil>=2.8.2 in /home/codespace/.local/lib/python3.10/site-packages (from pandas) (2.8.2)\n",
      "Requirement already satisfied: pytz>=2020.1 in /home/codespace/.local/lib/python3.10/site-packages (from pandas) (2023.3.post1)\n",
      "Requirement already satisfied: tzdata>=2022.1 in /home/codespace/.local/lib/python3.10/site-packages (from pandas) (2023.3)\n",
      "Requirement already satisfied: six>=1.5 in /home/codespace/.local/lib/python3.10/site-packages (from python-dateutil>=2.8.2->pandas) (1.16.0)\n",
      "Note: you may need to restart the kernel to use updated packages.\n"
     ]
    }
   ],
   "source": [
    "%pip install --upgrade pip\n",
    "\n",
    "%pip install requests pandas"
   ]
  },
  {
   "cell_type": "code",
   "execution_count": 2,
   "metadata": {},
   "outputs": [],
   "source": [
    "import requests\n",
    "import pandas as pd"
   ]
  },
  {
   "cell_type": "code",
   "execution_count": 3,
   "metadata": {},
   "outputs": [],
   "source": [
    "def load_api_key(api_key_file_path):\n",
    "    with open(api_key_file_path, 'r') as file:\n",
    "        api_key = file.read().strip()\n",
    "    return api_key"
   ]
  },
  {
   "cell_type": "code",
   "execution_count": 4,
   "metadata": {},
   "outputs": [],
   "source": [
    "github_pat = github_pat = load_api_key('github-pat.txt')\n",
    "headers = {'Authorization': 'token ' + github_pat}\n",
    "owner = \"subodh30\""
   ]
  },
  {
   "cell_type": "code",
   "execution_count": 5,
   "metadata": {},
   "outputs": [],
   "source": [
    "def fork_repository(repo_url):\n",
    "    repo_identifier = repo_url.split('github.com/')[1]\n",
    "    response = requests.post(f'https://api.github.com/repos/{repo_identifier}/forks', headers=headers)\n",
    "    print(response)\n",
    "    if response.status_code == 202:\n",
    "        print(f'Forked repository: {repo_url}')\n",
    "    else:\n",
    "        print(f'Failed to fork repository: {repo_url}')"
   ]
  },
  {
   "cell_type": "code",
   "execution_count": 10,
   "metadata": {},
   "outputs": [],
   "source": [
    "def enable_issues(repo_url):\n",
    "    repo_identifier = repo_url.split('github.com/')[1]\n",
    "    repo_name = repo_identifier.split('/')[1]\n",
    "    data = {\n",
    "        \"has_issues\": True,\n",
    "    }\n",
    "    response = requests.patch(f'https://api.github.com/repos/{owner}/{repo_name}', headers=headers, json=data)\n",
    "\n",
    "    if response.status_code == 200:\n",
    "        print(f\"Issues have been successfully enabled for repository {owner}/{repo_name}.\")\n",
    "    else:\n",
    "        print(f\"Failed to enable issues for repository {owner}/{repo_name}. Status code: {response.status_code}\")\n",
    "        print(response.text) "
   ]
  },
  {
   "cell_type": "code",
   "execution_count": 11,
   "metadata": {},
   "outputs": [],
   "source": [
    "def create_issue(repo_url, issue_title):\n",
    "    repo_identifier = repo_url.split('github.com/')[1]\n",
    "    repo_name = repo_identifier.split('/')[1]\n",
    "    data = {\n",
    "        'title': issue_title\n",
    "    }\n",
    "    response = requests.post(f'https://api.github.com/repos/{owner}/{repo_name}/issues', headers=headers, json=data)\n",
    "    if response.status_code == 201:\n",
    "        print(f'Created issue in repository: {owner}/{repo_name}')\n",
    "    else:\n",
    "        print(f'Failed to create issue in repository: {owner}/{repo_name}')\n"
   ]
  },
  {
   "cell_type": "code",
   "execution_count": 17,
   "metadata": {},
   "outputs": [
    {
     "name": "stdout",
     "output_type": "stream",
     "text": [
      "<Response [202]>\n",
      "Forked repository: https://github.com/apache/rocketmq\n",
      "Issues have been successfully enabled for repository subodh30/rocketmq.\n",
      "Created issue in repository: subodh30/rocketmq\n"
     ]
    }
   ],
   "source": [
    "fork_repository(\"https://github.com/apache/rocketmq\")\n",
    "enable_issues(\"https://github.com/apache/rocketmq\")\n",
    "create_issue(\"https://github.com/apache/rocketmq\", \"@devops-llm-bot create github actions\")"
   ]
  },
  {
   "cell_type": "code",
   "execution_count": null,
   "metadata": {},
   "outputs": [],
   "source": [
    "csv_files = ['DevOps_LLM_Bot_Test_Data - C#.csv', 'DevOps_LLM_Bot_Test_Data - Python.csv', 'DevOps_LLM_Bot_Test_Data - Java.csv']\n",
    "\n",
    "for csv_file in csv_files:\n",
    "    csvFile = pd.read_csv(csv_file)\n",
    "    csvFile = csvFile[csvFile['GitHub_Repo_Link'].notna()]\n",
    "    for i in range(0,len(csvFile)):\n",
    "        repo_link = csvFile.iloc[i]['GitHub_Repo_Link']\n",
    "        print(repo_link) \n",
    "        #fork_repository(repo_link)\n",
    "        issue_title = '@devops-llm-bot create build and test github.'\n",
    "        # enable_issues(\"https://github.com/apache/rocketmq\")\n",
    "        #create_issue(repo_link, issue_title)"
   ]
  },
  {
   "cell_type": "code",
   "execution_count": 15,
   "metadata": {},
   "outputs": [],
   "source": [
    "def delete_repository(repo_url):\n",
    "    repo_identifier = repo_url.split('github.com/')[1]\n",
    "    repo_name = repo_identifier.split('/')[1]\n",
    "    response = requests.delete(f'https://api.github.com/repos/{owner}/{repo_name}', headers=headers)\n",
    "\n",
    "    if response.status_code == 204:\n",
    "        print(f\"Repository {owner}/{repo_name} has been successfully deleted.\")\n",
    "    else:\n",
    "        print(f\"Failed to delete the repository {owner}/{repo_name}. Status code: {response.status_code}\")\n",
    "        print(response.text)"
   ]
  },
  {
   "cell_type": "code",
   "execution_count": 18,
   "metadata": {},
   "outputs": [
    {
     "name": "stdout",
     "output_type": "stream",
     "text": [
      "Repository subodh30/rocketmq has been successfully deleted.\n"
     ]
    }
   ],
   "source": [
    "delete_repository(\"https://github.com/apache/rocketmq\")"
   ]
  },
  {
   "cell_type": "code",
   "execution_count": null,
   "metadata": {},
   "outputs": [],
   "source": []
  }
 ],
 "metadata": {
  "kernelspec": {
   "display_name": "Python 3",
   "language": "python",
   "name": "python3"
  },
  "language_info": {
   "codemirror_mode": {
    "name": "ipython",
    "version": 3
   },
   "file_extension": ".py",
   "mimetype": "text/x-python",
   "name": "python",
   "nbconvert_exporter": "python",
   "pygments_lexer": "ipython3",
   "version": "3.10.8"
  }
 },
 "nbformat": 4,
 "nbformat_minor": 2
}
