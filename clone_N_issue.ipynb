{
 "cells": [
  {
   "cell_type": "code",
   "execution_count": 1,
   "metadata": {},
   "outputs": [
    {
     "name": "stdout",
     "output_type": "stream",
     "text": [
      "Requirement already satisfied: pip in /usr/local/python/3.10.8/lib/python3.10/site-packages (23.3.1)\n",
      "Note: you may need to restart the kernel to use updated packages.\n",
      "Requirement already satisfied: requests in /home/codespace/.local/lib/python3.10/site-packages (2.31.0)\n",
      "Requirement already satisfied: pandas in /home/codespace/.local/lib/python3.10/site-packages (2.1.1)\n",
      "Requirement already satisfied: charset-normalizer<4,>=2 in /home/codespace/.local/lib/python3.10/site-packages (from requests) (3.3.0)\n",
      "Requirement already satisfied: idna<4,>=2.5 in /home/codespace/.local/lib/python3.10/site-packages (from requests) (3.4)\n",
      "Requirement already satisfied: urllib3<3,>=1.21.1 in /home/codespace/.local/lib/python3.10/site-packages (from requests) (2.0.6)\n",
      "Requirement already satisfied: certifi>=2017.4.17 in /home/codespace/.local/lib/python3.10/site-packages (from requests) (2023.7.22)\n",
      "Requirement already satisfied: numpy>=1.22.4 in /home/codespace/.local/lib/python3.10/site-packages (from pandas) (1.26.1)\n",
      "Requirement already satisfied: python-dateutil>=2.8.2 in /home/codespace/.local/lib/python3.10/site-packages (from pandas) (2.8.2)\n",
      "Requirement already satisfied: pytz>=2020.1 in /home/codespace/.local/lib/python3.10/site-packages (from pandas) (2023.3.post1)\n",
      "Requirement already satisfied: tzdata>=2022.1 in /home/codespace/.local/lib/python3.10/site-packages (from pandas) (2023.3)\n",
      "Requirement already satisfied: six>=1.5 in /home/codespace/.local/lib/python3.10/site-packages (from python-dateutil>=2.8.2->pandas) (1.16.0)\n",
      "Note: you may need to restart the kernel to use updated packages.\n"
     ]
    }
   ],
   "source": [
    "%pip install --upgrade pip\n",
    "\n",
    "%pip install requests pandas"
   ]
  },
  {
   "cell_type": "code",
   "execution_count": 1,
   "metadata": {},
   "outputs": [],
   "source": [
    "import requests\n",
    "import pandas as pd"
   ]
  },
  {
   "cell_type": "code",
   "execution_count": 2,
   "metadata": {},
   "outputs": [],
   "source": [
    "def load_api_key(api_key_file_path):\n",
    "    with open(api_key_file_path, 'r') as file:\n",
    "        api_key = file.read().strip()\n",
    "    return api_key"
   ]
  },
  {
   "cell_type": "code",
   "execution_count": 3,
   "metadata": {},
   "outputs": [],
   "source": [
    "github_pat = github_pat = load_api_key('github-pat.txt')\n",
    "headers = {'Authorization': 'token ' + github_pat}\n",
    "owner = \"subodh30\""
   ]
  },
  {
   "cell_type": "code",
   "execution_count": 4,
   "metadata": {},
   "outputs": [],
   "source": [
    "def fork_repository(repo_url):\n",
    "    repo_identifier = repo_url.split('github.com/')[1]\n",
    "    response = requests.post(f'https://api.github.com/repos/{repo_identifier}/forks', headers=headers)\n",
    "    print(response)\n",
    "    if response.status_code == 202:\n",
    "        print(f'Forked repository: {repo_url}')\n",
    "    else:\n",
    "        print(f'Failed to fork repository: {repo_url}')"
   ]
  },
  {
   "cell_type": "code",
   "execution_count": 5,
   "metadata": {},
   "outputs": [],
   "source": [
    "def get_owners_repo_link(repo_url):\n",
    "    repo_identifier = repo_url.split('github.com/')[1]\n",
    "    repo_name = repo_identifier.split('/')[1]\n",
    "    return owner + \"/\" + repo_name"
   ]
  },
  {
   "cell_type": "code",
   "execution_count": 6,
   "metadata": {},
   "outputs": [],
   "source": [
    "def enable_issues(repo_url):\n",
    "    repo_name = get_owners_repo_link(repo_url)\n",
    "    data = {\n",
    "        \"has_issues\": True,\n",
    "    }\n",
    "    response = requests.patch(f'https://api.github.com/repos/{repo_name}', headers=headers, json=data)\n",
    "\n",
    "    if response.status_code == 200:\n",
    "        print(f\"Issues have been successfully enabled for repository {repo_name}.\")\n",
    "    else:\n",
    "        print(f\"Failed to enable issues for repository {repo_name}. Status code: {response.status_code}\")\n",
    "        print(response.text) "
   ]
  },
  {
   "cell_type": "code",
   "execution_count": 7,
   "metadata": {},
   "outputs": [],
   "source": [
    "def create_issue(repo_url, issue_title, issue_body):\n",
    "    repo_name = get_owners_repo_link(repo_url)\n",
    "    data = {\n",
    "        'title': issue_title,\n",
    "        'body': issue_body\n",
    "    }\n",
    "    response = requests.post(f'https://api.github.com/repos/{repo_name}/issues', headers=headers, json=data)\n",
    "    if response.status_code == 201:\n",
    "        print(f'Created issue in repository: {repo_name}')\n",
    "    else:\n",
    "        print(f'Failed to create issue in repository: {repo_name}')\n"
   ]
  },
  {
   "cell_type": "code",
   "execution_count": 13,
   "metadata": {},
   "outputs": [
    {
     "name": "stdout",
     "output_type": "stream",
     "text": [
      "<Response [202]>\n",
      "Forked repository: https://github.com/apache/rocketmq\n",
      "Issues have been successfully enabled for repository subodh30/rocketmq.\n",
      "Created issue in repository: subodh30/rocketmq\n"
     ]
    }
   ],
   "source": [
    "fork_repository(\"https://github.com/apache/rocketmq\")\n",
    "enable_issues(\"https://github.com/apache/rocketmq\")\n",
    "create_issue(\"https://github.com/apache/rocketmq\", \"@devops-llm-bot\", \"Create github actions to build and test. Worlflow name must be - Generated Workflow - only.  add workflow dispatch event so that it can be trggered with api call. Only give yml file as a response and nothing else.\")"
   ]
  },
  {
   "cell_type": "code",
   "execution_count": 6,
   "metadata": {},
   "outputs": [],
   "source": [
    "def get_latest_PR_id(repo_url):\n",
    "    repo_name = get_owners_repo_link(repo_url)\n",
    "    params = {\"state\": \"all\", \"sort\": \"created\", \"direction\": \"desc\"}\n",
    "    response = requests.get(f'https://api.github.com/repos/{repo_name}/pulls', headers=headers, params=params)\n",
    "    if response.status_code == 200:\n",
    "        prs = response.json()\n",
    "        if prs:\n",
    "            latest_pr = prs[0]\n",
    "            return latest_pr['number']\n",
    "        else:\n",
    "            print(\"No open PRs found in the repository.\")\n",
    "    else:\n",
    "        print(f\"Failed to fetch PRs. Status code: {response.status_code}\")\n",
    "    return None"
   ]
  },
  {
   "cell_type": "code",
   "execution_count": 7,
   "metadata": {},
   "outputs": [],
   "source": [
    "def status_check_of_PR(repo_url):\n",
    "    repo_name = get_owners_repo_link(repo_url)\n",
    "    pr_number = get_latest_PR_id(repo_url)\n",
    "\n",
    "    while True:\n",
    "\n",
    "        response = requests.get(f'https://api.github.com/repos/{repo_name}/pulls/{pr_number}/commits', headers=headers)\n",
    "        print(response.json()[-1][\"commit\"][\"url\"])\n",
    "        if response.status_code == 200:\n",
    "\n",
    "            latest_commit = response.json()[-1]\n",
    "            checks_url = latest_commit[\"commit\"][\"url\"] + \"/check-runs\"\n",
    "            checks_response = requests.get(checks_url, headers=headers)\n",
    "            print(checks_response.json())\n",
    "            if checks_response.status_code == 200:\n",
    "                checks_data = checks_response.json()\n",
    "                check_runs = checks_data.get(\"check_runs\", [])\n",
    "\n",
    "                # Check if all checks have completed successfully\n",
    "                checks_passed = all(check_run[\"conclusion\"] == \"success\" for check_run in check_runs)\n",
    "\n",
    "                if checks_passed:\n",
    "                    print(\"All checks have passed.\")\n",
    "                    break\n",
    "                else:\n",
    "                    print(\"Some checks are still in progress. Waiting for 30 seconds...\")\n",
    "                    time.sleep(30)\n",
    "            else:\n",
    "                print(f\"Failed to get check runs. Status code: {checks_response.status_code}\")\n",
    "                break\n",
    "        else:\n",
    "            print(f\"Failed to get PR commits. Status code: {response.status_code}\")\n",
    "            break"
   ]
  },
  {
   "cell_type": "code",
   "execution_count": 9,
   "metadata": {},
   "outputs": [],
   "source": [
    "def run_workflow(repo_url, workflow_name):\n",
    "    repo_name = get_owners_repo_link(repo_url)\n",
    "    workflow_dispatch_payload = {\n",
    "        \"ref\": \"develop\",  \n",
    "        \"inputs\": {}  \n",
    "    }\n",
    "    workflow_dispatch_url = f\"https://api.github.com/repos/{repo_name}/actions/workflows/{workflow_name}/dispatches\"\n",
    "\n",
    "    trigger_response = requests.post(workflow_dispatch_url, json=workflow_dispatch_payload, headers=headers)\n",
    "    print(trigger_response.json())\n",
    "    if trigger_response.status_code == 204:\n",
    "        print(f\"Workflow '{workflow_name}' has been triggered.\")\n",
    "\n",
    "        # Poll for the workflow run status\n",
    "        while True:\n",
    "            workflow_runs_url = f\"https://api.github.com/repos/{repo_name}/actions/workflows/{workflow_name}/runs\"\n",
    "            runs_response = requests.get(workflow_runs_url, headers=headers)\n",
    "\n",
    "            if runs_response.status_code == 200:\n",
    "                runs_data = runs_response.json()\n",
    "                latest_run = runs_data[\"workflow_runs\"][0]\n",
    "                status = latest_run[\"status\"]\n",
    "                conclusion = latest_run[\"conclusion\"]\n",
    "\n",
    "                print(f\"Latest run status: {status}, Conclusion: {conclusion}\")\n",
    "\n",
    "                if status == \"completed\":\n",
    "                    break\n",
    "                elif status == \"in_progress\":\n",
    "                    print(\"Workflow is still in progress. Waiting for 30 seconds...\")\n",
    "                    time.sleep(30)\n",
    "                else:\n",
    "                    print(\"Workflow run has encountered an error.\")\n",
    "                    break\n",
    "            else:\n",
    "                print(f\"Failed to retrieve workflow run status. Status code: {runs_response.status_code}\")\n",
    "                break\n",
    "    else:\n",
    "        print(f\"Failed to trigger the workflow. Status code: {trigger_response.status_code}\")"
   ]
  },
  {
   "cell_type": "code",
   "execution_count": 14,
   "metadata": {},
   "outputs": [
    {
     "name": "stdout",
     "output_type": "stream",
     "text": [
      "{'message': \"Workflow does not have 'workflow_dispatch' trigger\", 'documentation_url': 'https://docs.github.com/rest/actions/workflows#create-a-workflow-dispatch-event'}\n",
      "Failed to trigger the workflow. Status code: 422\n"
     ]
    }
   ],
   "source": [
    "# status_check_of_PR(\"https://github.com/apache/rocketmq\")\n",
    "run_workflow(\"https://github.com/apache/rocketmq\", \"build-autogenerated.yml\")"
   ]
  },
  {
   "cell_type": "code",
   "execution_count": null,
   "metadata": {},
   "outputs": [],
   "source": [
    "csv_files = ['DevOps_LLM_Bot_Test_Data - C#.csv', 'DevOps_LLM_Bot_Test_Data - Python.csv', 'DevOps_LLM_Bot_Test_Data - Java.csv']\n",
    "\n",
    "for csv_file in csv_files:\n",
    "    csvFile = pd.read_csv(csv_file)\n",
    "    csvFile = csvFile[csvFile['GitHub_Repo_Link'].notna()]\n",
    "    for i in range(0,len(csvFile)):\n",
    "        repo_link = csvFile.iloc[i]['GitHub_Repo_Link']\n",
    "        print(repo_link) \n",
    "        #fork_repository(repo_link)\n",
    "        issue_title = '@devops-llm-bot create build and test github.'\n",
    "        # enable_issues(\"https://github.com/apache/rocketmq\")\n",
    "        #create_issue(repo_link, issue_title)"
   ]
  },
  {
   "cell_type": "code",
   "execution_count": null,
   "metadata": {},
   "outputs": [],
   "source": []
  },
  {
   "cell_type": "code",
   "execution_count": null,
   "metadata": {},
   "outputs": [],
   "source": []
  },
  {
   "cell_type": "code",
   "execution_count": null,
   "metadata": {},
   "outputs": [],
   "source": []
  },
  {
   "cell_type": "code",
   "execution_count": null,
   "metadata": {},
   "outputs": [],
   "source": []
  },
  {
   "cell_type": "code",
   "execution_count": null,
   "metadata": {},
   "outputs": [],
   "source": []
  },
  {
   "cell_type": "code",
   "execution_count": null,
   "metadata": {},
   "outputs": [],
   "source": []
  },
  {
   "cell_type": "code",
   "execution_count": null,
   "metadata": {},
   "outputs": [],
   "source": []
  },
  {
   "cell_type": "code",
   "execution_count": null,
   "metadata": {},
   "outputs": [],
   "source": []
  },
  {
   "cell_type": "code",
   "execution_count": 9,
   "metadata": {},
   "outputs": [],
   "source": [
    "def delete_repository(repo_url):\n",
    "    repo_identifier = repo_url.split('github.com/')[1]\n",
    "    repo_name = repo_identifier.split('/')[1]\n",
    "    response = requests.delete(f'https://api.github.com/repos/{owner}/{repo_name}', headers=headers)\n",
    "\n",
    "    if response.status_code == 204:\n",
    "        print(f\"Repository {owner}/{repo_name} has been successfully deleted.\")\n",
    "    else:\n",
    "        print(f\"Failed to delete the repository {owner}/{repo_name}. Status code: {response.status_code}\")\n",
    "        print(response.text)"
   ]
  },
  {
   "cell_type": "code",
   "execution_count": 10,
   "metadata": {},
   "outputs": [
    {
     "name": "stdout",
     "output_type": "stream",
     "text": [
      "Repository subodh30/rocketmq has been successfully deleted.\n"
     ]
    }
   ],
   "source": [
    "delete_repository(\"https://github.com/apache/rocketmq\")"
   ]
  },
  {
   "cell_type": "code",
   "execution_count": null,
   "metadata": {},
   "outputs": [],
   "source": []
  }
 ],
 "metadata": {
  "kernelspec": {
   "display_name": "Python 3",
   "language": "python",
   "name": "python3"
  },
  "language_info": {
   "codemirror_mode": {
    "name": "ipython",
    "version": 3
   },
   "file_extension": ".py",
   "mimetype": "text/x-python",
   "name": "python",
   "nbconvert_exporter": "python",
   "pygments_lexer": "ipython3",
   "version": "3.10.8"
  }
 },
 "nbformat": 4,
 "nbformat_minor": 2
}
