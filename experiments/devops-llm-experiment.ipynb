{
 "cells": [
  {
   "cell_type": "code",
   "execution_count": 2,
   "metadata": {},
   "outputs": [],
   "source": [
    "import pandas\n",
    "import time\n",
    "import github\n",
    "import gpt"
   ]
  },
  {
   "cell_type": "code",
   "execution_count": 3,
   "metadata": {},
   "outputs": [
    {
     "data": {
      "text/html": [
       "<div>\n",
       "<style scoped>\n",
       "    .dataframe tbody tr th:only-of-type {\n",
       "        vertical-align: middle;\n",
       "    }\n",
       "\n",
       "    .dataframe tbody tr th {\n",
       "        vertical-align: top;\n",
       "    }\n",
       "\n",
       "    .dataframe thead th {\n",
       "        text-align: right;\n",
       "    }\n",
       "</style>\n",
       "<table border=\"1\" class=\"dataframe\">\n",
       "  <thead>\n",
       "    <tr style=\"text-align: right;\">\n",
       "      <th></th>\n",
       "      <th>Index</th>\n",
       "      <th>GitHub_Repo_Link</th>\n",
       "      <th>GitHub_Build_Pipeline_File_Content</th>\n",
       "      <th>Generated_Build_Pipeline_File_Content</th>\n",
       "      <th>Exact_Match_Score</th>\n",
       "      <th>BLEU_Score</th>\n",
       "      <th>Syntax_Check</th>\n",
       "      <th>DevOps_Aware_Score</th>\n",
       "    </tr>\n",
       "  </thead>\n",
       "  <tbody>\n",
       "    <tr>\n",
       "      <th>0</th>\n",
       "      <td>1.0</td>\n",
       "      <td>https://github.com/DapperLib/Dapper</td>\n",
       "      <td>NaN</td>\n",
       "      <td>NaN</td>\n",
       "      <td>NaN</td>\n",
       "      <td>NaN</td>\n",
       "      <td>NaN</td>\n",
       "      <td>NaN</td>\n",
       "    </tr>\n",
       "    <tr>\n",
       "      <th>1</th>\n",
       "      <td>2.0</td>\n",
       "      <td>https://github.com/huiyadanli/RevokeMsgPatcher</td>\n",
       "      <td>NaN</td>\n",
       "      <td>NaN</td>\n",
       "      <td>NaN</td>\n",
       "      <td>NaN</td>\n",
       "      <td>NaN</td>\n",
       "      <td>NaN</td>\n",
       "    </tr>\n",
       "    <tr>\n",
       "      <th>2</th>\n",
       "      <td>3.0</td>\n",
       "      <td>https://github.com/jasontaylordev/CleanArchite...</td>\n",
       "      <td>NaN</td>\n",
       "      <td>NaN</td>\n",
       "      <td>NaN</td>\n",
       "      <td>NaN</td>\n",
       "      <td>NaN</td>\n",
       "      <td>NaN</td>\n",
       "    </tr>\n",
       "    <tr>\n",
       "      <th>3</th>\n",
       "      <td>4.0</td>\n",
       "      <td>https://github.com/nilaoda/N_m3u8DL-CLI</td>\n",
       "      <td>NaN</td>\n",
       "      <td>NaN</td>\n",
       "      <td>NaN</td>\n",
       "      <td>NaN</td>\n",
       "      <td>NaN</td>\n",
       "      <td>NaN</td>\n",
       "    </tr>\n",
       "    <tr>\n",
       "      <th>4</th>\n",
       "      <td>5.0</td>\n",
       "      <td>https://github.com/shadowsocks/shadowsocks-win...</td>\n",
       "      <td>NaN</td>\n",
       "      <td>NaN</td>\n",
       "      <td>NaN</td>\n",
       "      <td>NaN</td>\n",
       "      <td>NaN</td>\n",
       "      <td>NaN</td>\n",
       "    </tr>\n",
       "  </tbody>\n",
       "</table>\n",
       "</div>"
      ],
      "text/plain": [
       "   Index                                   GitHub_Repo_Link  \\\n",
       "0    1.0                https://github.com/DapperLib/Dapper   \n",
       "1    2.0     https://github.com/huiyadanli/RevokeMsgPatcher   \n",
       "2    3.0  https://github.com/jasontaylordev/CleanArchite...   \n",
       "3    4.0            https://github.com/nilaoda/N_m3u8DL-CLI   \n",
       "4    5.0  https://github.com/shadowsocks/shadowsocks-win...   \n",
       "\n",
       "   GitHub_Build_Pipeline_File_Content  Generated_Build_Pipeline_File_Content  \\\n",
       "0                                 NaN                                    NaN   \n",
       "1                                 NaN                                    NaN   \n",
       "2                                 NaN                                    NaN   \n",
       "3                                 NaN                                    NaN   \n",
       "4                                 NaN                                    NaN   \n",
       "\n",
       "   Exact_Match_Score  BLEU_Score  Syntax_Check  DevOps_Aware_Score  \n",
       "0                NaN         NaN           NaN                 NaN  \n",
       "1                NaN         NaN           NaN                 NaN  \n",
       "2                NaN         NaN           NaN                 NaN  \n",
       "3                NaN         NaN           NaN                 NaN  \n",
       "4                NaN         NaN           NaN                 NaN  "
      ]
     },
     "execution_count": 3,
     "metadata": {},
     "output_type": "execute_result"
    }
   ],
   "source": [
    "# reading the CSV file\n",
    "csvFile = pandas.read_csv('dataset/dataset_sample.csv')\n",
    "\n",
    "# Pre-processing the CSV file\n",
    "csvFile = csvFile[csvFile['GitHub_Repo_Link'].notna()]\n",
    "\n",
    "csvFile"
   ]
  },
  {
   "cell_type": "code",
   "execution_count": 12,
   "metadata": {},
   "outputs": [],
   "source": [
    "def run_experiment(csvFile):\n",
    "    for i in range(0,5):\n",
    "        repo_identifier = csvFile.iloc[i]['GitHub_Repo_Link'].split('github.com/')[1]\n",
    "        print(repo_identifier)\n",
    "        try:\n",
    "            default_branch = github.get_default_branch(repo_identifier);\n",
    "            repo_structure = github.get_repository_tree(repo_identifier, default_branch)\n",
    "            dependencies = github.get_list_of_dependencies(repo_identifier)\n",
    "            csvFile.loc[i,'Generated_Build_Pipeline_File_Content'] = gpt.generate_build_pipeline(repo_structure, dependencies, default_branch)\n",
    "            # Add delay to avoid rate limiting\n",
    "            time.sleep(10)\n",
    "        except Exception as e:\n",
    "            print(e)\n",
    "            continue\n",
    "\n",
    "    csvFile.to_csv('DevOps_LLM_Bot_Test_Data - C#.csv', index=False)"
   ]
  },
  {
   "cell_type": "code",
   "execution_count": 13,
   "metadata": {},
   "outputs": [
    {
     "name": "stdout",
     "output_type": "stream",
     "text": [
      "DapperLib/Dapper\n",
      "huiyadanli/RevokeMsgPatcher\n",
      "jasontaylordev/CleanArchitecture\n",
      "nilaoda/N_m3u8DL-CLI\n",
      "shadowsocks/shadowsocks-windows\n"
     ]
    }
   ],
   "source": [
    "run_experiment(csvFile)"
   ]
  }
 ],
 "metadata": {
  "kernelspec": {
   "display_name": "Python 3",
   "language": "python",
   "name": "python3"
  },
  "language_info": {
   "codemirror_mode": {
    "name": "ipython",
    "version": 3
   },
   "file_extension": ".py",
   "mimetype": "text/x-python",
   "name": "python",
   "nbconvert_exporter": "python",
   "pygments_lexer": "ipython3",
   "version": "3.10.8"
  }
 },
 "nbformat": 4,
 "nbformat_minor": 2
}
