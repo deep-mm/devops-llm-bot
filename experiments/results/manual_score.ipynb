{
 "cells": [
  {
   "cell_type": "code",
   "execution_count": 1,
   "metadata": {},
   "outputs": [],
   "source": [
    "import pandas as pd"
   ]
  },
  {
   "cell_type": "code",
   "execution_count": 18,
   "metadata": {},
   "outputs": [
    {
     "name": "stdout",
     "output_type": "stream",
     "text": [
      "324\n"
     ]
    }
   ],
   "source": [
    "df = pd.read_csv('./manual_score.csv')\n",
    "print(df.shape[0])"
   ]
  },
  {
   "cell_type": "code",
   "execution_count": 3,
   "metadata": {},
   "outputs": [
    {
     "data": {
      "text/html": [
       "<div>\n",
       "<style scoped>\n",
       "    .dataframe tbody tr th:only-of-type {\n",
       "        vertical-align: middle;\n",
       "    }\n",
       "\n",
       "    .dataframe tbody tr th {\n",
       "        vertical-align: top;\n",
       "    }\n",
       "\n",
       "    .dataframe thead th {\n",
       "        text-align: right;\n",
       "    }\n",
       "</style>\n",
       "<table border=\"1\" class=\"dataframe\">\n",
       "  <thead>\n",
       "    <tr style=\"text-align: right;\">\n",
       "      <th></th>\n",
       "      <th>Index</th>\n",
       "      <th>GitHub_Repo_Link</th>\n",
       "      <th>GitHub_Build_Pipeline_File_Content</th>\n",
       "      <th>Generated_Build_Pipeline_File_Content</th>\n",
       "      <th>Exact_Match_Score</th>\n",
       "      <th>BLEU_Score</th>\n",
       "      <th>Syntax_Check</th>\n",
       "      <th>DevOps_Aware_Score</th>\n",
       "      <th>Language</th>\n",
       "      <th>Manual_Evaluation_Score</th>\n",
       "    </tr>\n",
       "  </thead>\n",
       "  <tbody>\n",
       "    <tr>\n",
       "      <th>0</th>\n",
       "      <td>0</td>\n",
       "      <td>https://github.com/formatjs/formatjs-old</td>\n",
       "      <td>name: Node CI\\n\\non: [push, pull_request]\\n\\nj...</td>\n",
       "      <td>name: Build and Test\\n\\non:\\n  push:\\n    bran...</td>\n",
       "      <td>0.327465</td>\n",
       "      <td>0.543671</td>\n",
       "      <td>Valid</td>\n",
       "      <td>0.949875</td>\n",
       "      <td>TypeScript</td>\n",
       "      <td>5</td>\n",
       "    </tr>\n",
       "    <tr>\n",
       "      <th>1</th>\n",
       "      <td>1</td>\n",
       "      <td>https://github.com/alitajs/alita</td>\n",
       "      <td>name: CI\\non:\\n  push:\\n    branches: [main, m...</td>\n",
       "      <td>name: Build and Test\\n\\non:\\n  push:\\n    bran...</td>\n",
       "      <td>0.154406</td>\n",
       "      <td>0.554446</td>\n",
       "      <td>Valid</td>\n",
       "      <td>0.772257</td>\n",
       "      <td>JavaScript</td>\n",
       "      <td>2</td>\n",
       "    </tr>\n",
       "    <tr>\n",
       "      <th>2</th>\n",
       "      <td>2</td>\n",
       "      <td>https://github.com/mrpt-ros-pkg/mrpt_navigation</td>\n",
       "      <td># Based on GTSAM file (by @ProfFan)\\nname: CI ...</td>\n",
       "      <td>name: Build and Test\\n\\non:\\n  push:\\n    bran...</td>\n",
       "      <td>0.046669</td>\n",
       "      <td>0.221583</td>\n",
       "      <td>Valid</td>\n",
       "      <td>0.477788</td>\n",
       "      <td>C++</td>\n",
       "      <td>1</td>\n",
       "    </tr>\n",
       "    <tr>\n",
       "      <th>3</th>\n",
       "      <td>3</td>\n",
       "      <td>https://github.com/ganlvtech/phaser-catch-the-cat</td>\n",
       "      <td>name: Build and Deploy\\non:\\n  push:\\n    bran...</td>\n",
       "      <td>name: Build and Test\\n\\non: [push, pull_reques...</td>\n",
       "      <td>0.155556</td>\n",
       "      <td>0.478067</td>\n",
       "      <td>Valid</td>\n",
       "      <td>0.666667</td>\n",
       "      <td>TypeScript</td>\n",
       "      <td>4</td>\n",
       "    </tr>\n",
       "    <tr>\n",
       "      <th>4</th>\n",
       "      <td>4</td>\n",
       "      <td>https://github.com/seth-brown/formd</td>\n",
       "      <td>name: Build Status\\n\\non: [push]\\n\\njobs:\\n  g...</td>\n",
       "      <td>name: Build and Test\\n\\non:\\n  push:\\n    bran...</td>\n",
       "      <td>0.177072</td>\n",
       "      <td>0.577484</td>\n",
       "      <td>Valid</td>\n",
       "      <td>0.952070</td>\n",
       "      <td>TypeScript</td>\n",
       "      <td>5</td>\n",
       "    </tr>\n",
       "    <tr>\n",
       "      <th>5</th>\n",
       "      <td>5</td>\n",
       "      <td>https://github.com/pfusik/cito</td>\n",
       "      <td>name: tests\\non: push\\njobs:\\n  c-cl-error:\\n ...</td>\n",
       "      <td>name: Build and Test\\n\\non:\\n  push:\\n    bran...</td>\n",
       "      <td>0.019040</td>\n",
       "      <td>0.155981</td>\n",
       "      <td>Valid</td>\n",
       "      <td>0.487479</td>\n",
       "      <td>C++</td>\n",
       "      <td>2</td>\n",
       "    </tr>\n",
       "    <tr>\n",
       "      <th>6</th>\n",
       "      <td>6</td>\n",
       "      <td>https://github.com/geotools/geotools</td>\n",
       "      <td>name: Assembly bundle and test\\n\\non: [pull_re...</td>\n",
       "      <td>name: Build and Test\\n\\non:\\n  push:\\n    bran...</td>\n",
       "      <td>0.127150</td>\n",
       "      <td>0.246383</td>\n",
       "      <td>Valid</td>\n",
       "      <td>0.304272</td>\n",
       "      <td>Java</td>\n",
       "      <td>4</td>\n",
       "    </tr>\n",
       "    <tr>\n",
       "      <th>7</th>\n",
       "      <td>7</td>\n",
       "      <td>https://github.com/metalsmith/metalsmith-layouts</td>\n",
       "      <td>name: CI\\non:\\n  push:\\n    branches: ['**']\\n...</td>\n",
       "      <td>name: Build and Test\\n\\non:\\n  push:\\n    bran...</td>\n",
       "      <td>0.160070</td>\n",
       "      <td>0.327232</td>\n",
       "      <td>Valid</td>\n",
       "      <td>1.000000</td>\n",
       "      <td>JavaScript</td>\n",
       "      <td>3</td>\n",
       "    </tr>\n",
       "    <tr>\n",
       "      <th>8</th>\n",
       "      <td>8</td>\n",
       "      <td>https://github.com/chrisvin/rubberpicker</td>\n",
       "      <td>name: Android CI\\n\\non: [push]\\n\\njobs:\\n  bui...</td>\n",
       "      <td>name: Build and Test\\n\\non:\\n  push:\\n    bran...</td>\n",
       "      <td>0.387646</td>\n",
       "      <td>0.403930</td>\n",
       "      <td>Valid</td>\n",
       "      <td>0.970588</td>\n",
       "      <td>Kotlin</td>\n",
       "      <td>5</td>\n",
       "    </tr>\n",
       "    <tr>\n",
       "      <th>9</th>\n",
       "      <td>9</td>\n",
       "      <td>https://github.com/afollestad/date-picker</td>\n",
       "      <td>name: Android CI\\n\\non: [push]\\n\\njobs:\\n  bui...</td>\n",
       "      <td>name: Build and Test\\n\\non:\\n  push:\\n    bran...</td>\n",
       "      <td>0.246642</td>\n",
       "      <td>0.348331</td>\n",
       "      <td>Valid</td>\n",
       "      <td>0.833333</td>\n",
       "      <td>Kotlin</td>\n",
       "      <td>4</td>\n",
       "    </tr>\n",
       "  </tbody>\n",
       "</table>\n",
       "</div>"
      ],
      "text/plain": [
       "   Index                                   GitHub_Repo_Link  \\\n",
       "0      0           https://github.com/formatjs/formatjs-old   \n",
       "1      1                   https://github.com/alitajs/alita   \n",
       "2      2    https://github.com/mrpt-ros-pkg/mrpt_navigation   \n",
       "3      3  https://github.com/ganlvtech/phaser-catch-the-cat   \n",
       "4      4                https://github.com/seth-brown/formd   \n",
       "5      5                     https://github.com/pfusik/cito   \n",
       "6      6               https://github.com/geotools/geotools   \n",
       "7      7   https://github.com/metalsmith/metalsmith-layouts   \n",
       "8      8           https://github.com/chrisvin/rubberpicker   \n",
       "9      9          https://github.com/afollestad/date-picker   \n",
       "\n",
       "                  GitHub_Build_Pipeline_File_Content  \\\n",
       "0  name: Node CI\\n\\non: [push, pull_request]\\n\\nj...   \n",
       "1  name: CI\\non:\\n  push:\\n    branches: [main, m...   \n",
       "2  # Based on GTSAM file (by @ProfFan)\\nname: CI ...   \n",
       "3  name: Build and Deploy\\non:\\n  push:\\n    bran...   \n",
       "4  name: Build Status\\n\\non: [push]\\n\\njobs:\\n  g...   \n",
       "5  name: tests\\non: push\\njobs:\\n  c-cl-error:\\n ...   \n",
       "6  name: Assembly bundle and test\\n\\non: [pull_re...   \n",
       "7  name: CI\\non:\\n  push:\\n    branches: ['**']\\n...   \n",
       "8  name: Android CI\\n\\non: [push]\\n\\njobs:\\n  bui...   \n",
       "9  name: Android CI\\n\\non: [push]\\n\\njobs:\\n  bui...   \n",
       "\n",
       "               Generated_Build_Pipeline_File_Content  Exact_Match_Score  \\\n",
       "0  name: Build and Test\\n\\non:\\n  push:\\n    bran...           0.327465   \n",
       "1  name: Build and Test\\n\\non:\\n  push:\\n    bran...           0.154406   \n",
       "2  name: Build and Test\\n\\non:\\n  push:\\n    bran...           0.046669   \n",
       "3  name: Build and Test\\n\\non: [push, pull_reques...           0.155556   \n",
       "4  name: Build and Test\\n\\non:\\n  push:\\n    bran...           0.177072   \n",
       "5  name: Build and Test\\n\\non:\\n  push:\\n    bran...           0.019040   \n",
       "6  name: Build and Test\\n\\non:\\n  push:\\n    bran...           0.127150   \n",
       "7  name: Build and Test\\n\\non:\\n  push:\\n    bran...           0.160070   \n",
       "8  name: Build and Test\\n\\non:\\n  push:\\n    bran...           0.387646   \n",
       "9  name: Build and Test\\n\\non:\\n  push:\\n    bran...           0.246642   \n",
       "\n",
       "   BLEU_Score Syntax_Check  DevOps_Aware_Score    Language  \\\n",
       "0    0.543671        Valid            0.949875  TypeScript   \n",
       "1    0.554446        Valid            0.772257  JavaScript   \n",
       "2    0.221583        Valid            0.477788         C++   \n",
       "3    0.478067        Valid            0.666667  TypeScript   \n",
       "4    0.577484        Valid            0.952070  TypeScript   \n",
       "5    0.155981        Valid            0.487479         C++   \n",
       "6    0.246383        Valid            0.304272        Java   \n",
       "7    0.327232        Valid            1.000000  JavaScript   \n",
       "8    0.403930        Valid            0.970588      Kotlin   \n",
       "9    0.348331        Valid            0.833333      Kotlin   \n",
       "\n",
       "   Manual_Evaluation_Score  \n",
       "0                        5  \n",
       "1                        2  \n",
       "2                        1  \n",
       "3                        4  \n",
       "4                        5  \n",
       "5                        2  \n",
       "6                        4  \n",
       "7                        3  \n",
       "8                        5  \n",
       "9                        4  "
      ]
     },
     "execution_count": 3,
     "metadata": {},
     "output_type": "execute_result"
    }
   ],
   "source": [
    "df.head(10)"
   ]
  },
  {
   "cell_type": "code",
   "execution_count": 4,
   "metadata": {},
   "outputs": [
    {
     "data": {
      "text/plain": [
       "0.6146496413292707"
      ]
     },
     "execution_count": 4,
     "metadata": {},
     "output_type": "execute_result"
    }
   ],
   "source": [
    "df['DevOps_Aware_Score'].corr(df['Manual_Evaluation_Score'])"
   ]
  },
  {
   "cell_type": "code",
   "execution_count": 5,
   "metadata": {},
   "outputs": [
    {
     "data": {
      "text/plain": [
       "0.6146496413292707"
      ]
     },
     "execution_count": 5,
     "metadata": {},
     "output_type": "execute_result"
    }
   ],
   "source": [
    "df['Manual_Evaluation_Score'].corr(df['DevOps_Aware_Score'])"
   ]
  },
  {
   "cell_type": "code",
   "execution_count": 7,
   "metadata": {},
   "outputs": [],
   "source": [
    "# Group rows by Language and find correlation for each group with columns Manual_Evaluation_Score and DevOps_Aware_Score\n",
    "lang_df = df.groupby('Language')\n"
   ]
  },
  {
   "cell_type": "code",
   "execution_count": 8,
   "metadata": {},
   "outputs": [
    {
     "data": {
      "text/plain": [
       "<pandas.core.groupby.generic.DataFrameGroupBy object at 0x7f4a0efee800>"
      ]
     },
     "execution_count": 8,
     "metadata": {},
     "output_type": "execute_result"
    }
   ],
   "source": []
  },
  {
   "cell_type": "code",
   "execution_count": 9,
   "metadata": {},
   "outputs": [
    {
     "name": "stdout",
     "output_type": "stream",
     "text": [
      "Pearson Correlation Coefficient: 0.6146496413292709\n",
      "P-value: 4.7890773255095215e-35\n"
     ]
    }
   ],
   "source": [
    "#Pearson Correlation Coefficient\n",
    "from scipy.stats import pearsonr\n",
    "\n",
    "devops_scores = df['DevOps_Aware_Score']\n",
    "manual_scores = df['Manual_Evaluation_Score']\n",
    "\n",
    "correlation_coefficient, p_value = pearsonr(devops_scores, manual_scores)\n",
    "\n",
    "print(f\"Pearson Correlation Coefficient: {correlation_coefficient}\")\n",
    "print(f\"P-value: {p_value}\")\n"
   ]
  },
  {
   "cell_type": "code",
   "execution_count": 23,
   "metadata": {},
   "outputs": [
    {
     "name": "stdout",
     "output_type": "stream",
     "text": [
      "Language: C#\n",
      "Pearson Correlation Coefficient: 0.6144936693446184\n",
      "P-value: 9.112031229412816e-06\n",
      "\n",
      "\n",
      "Language: C++\n",
      "Pearson Correlation Coefficient: 0.24216774515126652\n",
      "P-value: 0.12230650338989851\n",
      "\n",
      "\n",
      "Language: Java\n",
      "Pearson Correlation Coefficient: 0.5930830935019283\n",
      "P-value: 4.515654112384859e-06\n",
      "\n",
      "\n",
      "Language: JavaScript\n",
      "Pearson Correlation Coefficient: 0.47836513339146497\n",
      "P-value: 0.0002912401362917492\n",
      "\n",
      "\n",
      "Language: Kotlin\n",
      "Pearson Correlation Coefficient: 0.5360662975254363\n",
      "P-value: 4.206909557064983e-05\n",
      "\n",
      "\n",
      "Language: Python\n",
      "Pearson Correlation Coefficient: 0.4269802475492226\n",
      "P-value: 0.016593238630546788\n",
      "\n",
      "\n",
      "Language: TypeScript\n",
      "Pearson Correlation Coefficient: 0.5420983774956372\n",
      "P-value: 3.9780356950253056e-05\n",
      "\n",
      "\n",
      "Overall:\n",
      "Pearson Correlation Coefficient: 0.6146496413292709\n",
      "P-value: 4.7890773255095215e-35\n"
     ]
    }
   ],
   "source": [
    "from scipy.stats import pearsonr\n",
    "\n",
    "correlation_results = df.groupby('Language').apply(lambda group: pearsonr(group['DevOps_Aware_Score'], group['Manual_Evaluation_Score']))\n",
    "\n",
    "languages = correlation_results.index\n",
    "\n",
    "num_rows_per_language = df['Language'].value_counts().loc[languages]\n",
    "\n",
    "overall_correlation_coefficient, overall_p_value = pearsonr(df['DevOps_Aware_Score'], df['Manual_Evaluation_Score'])\n",
    "\n",
    "for language, (correlation_coefficient, p_value) in correlation_results.items():\n",
    "    print(f\"Language: {language}\")\n",
    "    print(f\"Pearson Correlation Coefficient: {correlation_coefficient}\")\n",
    "    print(f\"P-value: {p_value}\")\n",
    "    print(\"\\n\")\n",
    "\n",
    "\n",
    "print(f\"Overall:\")\n",
    "print(f\"Pearson Correlation Coefficient: {overall_correlation_coefficient}\")\n",
    "print(f\"P-value: {overall_p_value}\")\n"
   ]
  },
  {
   "cell_type": "code",
   "execution_count": 28,
   "metadata": {},
   "outputs": [
    {
     "data": {
      "image/png": "[encoded data removed]",
      "text/plain": [
       "<Figure size 1200x800 with 1 Axes>"
      ]
     },
     "metadata": {},
     "output_type": "display_data"
    }
   ],
   "source": [
    "import matplotlib.pyplot as plt\n",
    "\n",
    "plt.figure(figsize=(12, 8))\n",
    "plt.bar(languages, correlation_coefficients, color='blue', alpha=0.7)\n",
    "plt.axhline(y=overall_correlation_coefficient, color='red', linestyle='--', label='Overall Correlation')\n",
    "\n",
    "# Add labels and title\n",
    "plt.xlabel('Language')\n",
    "plt.ylabel('Correlation Coefficient')\n",
    "plt.title('Correlation between DevOps Score and Manual Score for Each Language')\n",
    "plt.legend()\n",
    "\n",
    "# Display correlation values on the bars\n",
    "# for i, coef in enumerate(correlation_coefficients):\n",
    "#     plt.text(i, coef, f'{coef:.2f}', ha='center', va='bottom')\n",
    "\n",
    "for i, (coef, rows) in enumerate(zip(correlation_coefficients, num_rows_per_language)):\n",
    "    plt.bar(languages[i], coef, color='blue', alpha=0.7, label='Correlation Coefficient')\n",
    "    plt.text(i, coef, f'Rows: {rows}\\nCorr: {coef:.2f}', ha='center', va='bottom', color='red')\n",
    "\n",
    "\n",
    "plt.xlabel('Language')\n",
    "plt.ylabel('Value')\n",
    "plt.title('Correlation and Number of Rows for Each Language')\n",
    "\n",
    "plt.ylim(0, 0.8)\n",
    "\n",
    "# Show the plot\n",
    "plt.xticks(rotation=45, ha='right')\n",
    "plt.tight_layout()\n",
    "plt.show()\n",
    "\n"
   ]
  },
  {
   "cell_type": "code",
   "execution_count": null,
   "metadata": {},
   "outputs": [],
   "source": []
  }
 ],
 "metadata": {
  "kernelspec": {
   "display_name": "Python 3",
   "language": "python",
   "name": "python3"
  },
  "language_info": {
   "codemirror_mode": {
    "name": "ipython",
    "version": 3
   },
   "file_extension": ".py",
   "mimetype": "text/x-python",
   "name": "python",
   "nbconvert_exporter": "python",
   "pygments_lexer": "ipython3",
   "version": "3.10.13"
  }
 },
 "nbformat": 4,
 "nbformat_minor": 2
}
