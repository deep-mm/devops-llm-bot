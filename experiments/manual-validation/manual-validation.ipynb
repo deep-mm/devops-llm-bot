{
 "cells": [
  {
   "cell_type": "code",
   "execution_count": null,
   "metadata": {},
   "outputs": [],
   "source": [
    "# Read three CSV files from ../final-results/gpt-4-1.csv, ../final-results/gpt-4-2.csv, ../final-results/gpt-4-3.csv of format Index,GitHub_Repo_Link,GitHub_Build_Pipeline_File_Content,Generated_Build_Pipeline_File_Content,Exact_Match_Score,BLEU_Score,Syntax_Check,DevOps_Aware_Score,Language\n",
    "# Randomly select 324 rows of all the rows with Syntax_Check as Valid from combined CSV files and save 108 rows each into three new CSV files in ../final-results/manual-validation with the names manual-validation-1.csv, manual-validation-2.csv, manual-validation-3.csv\n",
    "# In each csv file add a new column named \"Manual_Validation_Score\"\n"
   ]
  },
  {
   "cell_type": "code",
   "execution_count": 3,
   "metadata": {},
   "outputs": [
    {
     "name": "stderr",
     "output_type": "stream",
     "text": [
      "/tmp/ipykernel_3723/1971570436.py:23: SettingWithCopyWarning: \n",
      "A value is trying to be set on a copy of a slice from a DataFrame.\n",
      "Try using .loc[row_indexer,col_indexer] = value instead\n",
      "\n",
      "See the caveats in the documentation: https://pandas.pydata.org/pandas-docs/stable/user_guide/indexing.html#returning-a-view-versus-a-copy\n",
      "  group['Manual_Validation_Score'] = ''\n",
      "/tmp/ipykernel_3723/1971570436.py:23: SettingWithCopyWarning: \n",
      "A value is trying to be set on a copy of a slice from a DataFrame.\n",
      "Try using .loc[row_indexer,col_indexer] = value instead\n",
      "\n",
      "See the caveats in the documentation: https://pandas.pydata.org/pandas-docs/stable/user_guide/indexing.html#returning-a-view-versus-a-copy\n",
      "  group['Manual_Validation_Score'] = ''\n",
      "/tmp/ipykernel_3723/1971570436.py:23: SettingWithCopyWarning: \n",
      "A value is trying to be set on a copy of a slice from a DataFrame.\n",
      "Try using .loc[row_indexer,col_indexer] = value instead\n",
      "\n",
      "See the caveats in the documentation: https://pandas.pydata.org/pandas-docs/stable/user_guide/indexing.html#returning-a-view-versus-a-copy\n",
      "  group['Manual_Validation_Score'] = ''\n"
     ]
    }
   ],
   "source": [
    "import pandas as pd\n",
    "import random\n",
    "\n",
    "# Read the CSV files\n",
    "csv_files = ['../final-results/gpt-4-1.csv', '../final-results/gpt-4-2.csv', '../final-results/gpt-4-3.csv']\n",
    "dfs = [pd.read_csv(file) for file in csv_files]\n",
    "\n",
    "# Filter rows with Syntax_Check as Valid\n",
    "valid_rows = pd.concat(dfs).loc[pd.concat(dfs)['Syntax_Check'] == 'Valid']\n",
    "\n",
    "# Randomly select 324 rows\n",
    "random_rows = valid_rows.sample(n=324, random_state=42)\n",
    "\n",
    "# Split the rows into three groups\n",
    "groups = [random_rows.iloc[i:i+108] for i in range(0, len(random_rows), 108)]\n",
    "\n",
    "# Save the groups into new CSV files\n",
    "output_files = ['./manual-validation-1.csv',\n",
    "                './manual-validation-2.csv',\n",
    "                './manual-validation-3.csv']\n",
    "\n",
    "for i, group in enumerate(groups):\n",
    "    group['Manual_Validation_Score'] = ''\n",
    "    group.to_csv(output_files[i], index=False)\n"
   ]
  }
 ],
 "metadata": {
  "kernelspec": {
   "display_name": "Python 3",
   "language": "python",
   "name": "python3"
  },
  "language_info": {
   "codemirror_mode": {
    "name": "ipython",
    "version": 3
   },
   "file_extension": ".py",
   "mimetype": "text/x-python",
   "name": "python",
   "nbconvert_exporter": "python",
   "pygments_lexer": "ipython3",
   "version": "3.10.8"
  }
 },
 "nbformat": 4,
 "nbformat_minor": 2
}
